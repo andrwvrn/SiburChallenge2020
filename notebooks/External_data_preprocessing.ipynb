{
 "cells": [
  {
   "cell_type": "code",
   "execution_count": null,
   "metadata": {},
   "outputs": [],
   "source": [
    "import pathlib\n",
    "import re\n",
    "\n",
    "import numpy as np\n",
    "import pandas as pd\n",
    "\n",
    "import warnings\n",
    "warnings.filterwarnings('ignore')"
   ]
  },
  {
   "cell_type": "markdown",
   "metadata": {},
   "source": [
    "# Загрузка данных"
   ]
  },
  {
   "cell_type": "code",
   "execution_count": null,
   "metadata": {},
   "outputs": [],
   "source": [
    "DATA_DIR = pathlib.Path(\"../data\")"
   ]
  },
  {
   "cell_type": "code",
   "execution_count": null,
   "metadata": {},
   "outputs": [],
   "source": [
    "train_df = pd.read_csv(DATA_DIR.joinpath(\"train.csv\"), index_col=\"pair_id\")\n",
    "test_df = pd.read_csv(DATA_DIR.joinpath(\"test.csv\"), index_col=\"pair_id\")"
   ]
  },
  {
   "cell_type": "code",
   "execution_count": null,
   "metadata": {},
   "outputs": [],
   "source": [
    "train = train_df.copy()\n",
    "test = test_df.copy()"
   ]
  },
  {
   "cell_type": "code",
   "execution_count": null,
   "metadata": {},
   "outputs": [],
   "source": [
    "companies = pd.read_csv(DATA_DIR.joinpath('companies_sorted.csv'))"
   ]
  },
  {
   "cell_type": "code",
   "execution_count": null,
   "metadata": {},
   "outputs": [],
   "source": [
    "companies = companies[(companies['name'].notna()) & (companies['industry'].notna())]"
   ]
  },
  {
   "cell_type": "markdown",
   "metadata": {},
   "source": [
    "# Очистка данных"
   ]
  },
  {
   "cell_type": "code",
   "execution_count": null,
   "metadata": {},
   "outputs": [],
   "source": [
    "train[\"name_1\"] = train[\"name_1\"].str.lower()\n",
    "train[\"name_2\"] = train[\"name_2\"].str.lower()\n",
    "\n",
    "test[\"name_1\"] = test[\"name_1\"].str.lower()\n",
    "test[\"name_2\"] = test[\"name_2\"].str.lower()"
   ]
  },
  {
   "cell_type": "code",
   "execution_count": null,
   "metadata": {},
   "outputs": [],
   "source": [
    "companies['name'] = companies['name'].str.lower()"
   ]
  },
  {
   "cell_type": "code",
   "execution_count": null,
   "metadata": {},
   "outputs": [],
   "source": [
    "legal_entities = [\"ltd\\.\", \"co\\.\", \"inc\\.\", \"b\\.v\\.\", \"s\\.c\\.r\\.l\\.\", \"gmbh\", \"pvt\\.\", \"llc\", \"corp\", \"corp\\.\",\n",
    "                  \"bv\", \"s\\.a\\.\", \"c\\.v\\.\", \"ltda\", \"cv\", \"sa\", \"ca\", \"c\\.a\\.\"]\n",
    "legal_re = re.compile(r'\\s*\\b(?:' + '|'.join([rf\"{entity}\" for entity in legal_entities]) + r')(?!\\S)')"
   ]
  },
  {
   "cell_type": "code",
   "execution_count": null,
   "metadata": {},
   "outputs": [],
   "source": [
    "for dataset in (train, test):\n",
    "    dataset.replace(to_replace=legal_re, value=\"\", inplace=True, regex=True)"
   ]
  },
  {
   "cell_type": "code",
   "execution_count": null,
   "metadata": {},
   "outputs": [],
   "source": [
    "for dataset in (train, test):\n",
    "    dataset.replace(to_replace=re.compile(r\"[^\\w\\s]\"), value=\" \", inplace=True, regex=True)\n",
    "    dataset.replace(to_replace=re.compile(r\"\\s+\"), value=\" \", inplace=True, regex=True)"
   ]
  },
  {
   "cell_type": "code",
   "execution_count": null,
   "metadata": {},
   "outputs": [],
   "source": [
    "companies.replace(to_replace=legal_re, value=\"\", inplace=True, regex=True)\n",
    "companies.replace(to_replace=re.compile(r\"[^\\w\\s]\"), value=\" \", inplace=True, regex=True)\n",
    "companies.replace(to_replace=re.compile(r\"\\s+\"), value=\" \", inplace=True, regex=True)"
   ]
  },
  {
   "cell_type": "code",
   "execution_count": null,
   "metadata": {},
   "outputs": [],
   "source": [
    "companies.drop_duplicates(subset=['name'], inplace=True)"
   ]
  },
  {
   "cell_type": "markdown",
   "metadata": {},
   "source": [
    "# Сопоставление названий"
   ]
  },
  {
   "cell_type": "markdown",
   "metadata": {},
   "source": [
    "### Полное сопоставление"
   ]
  },
  {
   "cell_type": "code",
   "execution_count": null,
   "metadata": {},
   "outputs": [],
   "source": [
    "cols_to_merge = ['name', 'industry', 'current employee estimate', 'total employee estimate', 'year founded', 'locality']"
   ]
  },
  {
   "cell_type": "code",
   "execution_count": null,
   "metadata": {},
   "outputs": [],
   "source": [
    "train = train.merge(companies[cols_to_merge], left_on='name_1', right_on='name', how='left')\n",
    "train.drop(columns=['name'], inplace=True)\n",
    "train.rename(columns={col: col + '_n1' for col in cols_to_merge}, inplace=True)\n",
    "\n",
    "test = test.merge(companies[cols_to_merge], left_on='name_1', right_on='name', how='left')\n",
    "test.drop(columns=['name'], inplace=True)\n",
    "test.rename(columns={col: col + '_n1' for col in cols_to_merge}, inplace=True)"
   ]
  },
  {
   "cell_type": "code",
   "execution_count": null,
   "metadata": {},
   "outputs": [],
   "source": [
    "train = train.merge(companies[cols_to_merge], left_on='name_2', right_on='name', how='left')\n",
    "train.drop(columns=['name'], inplace=True)\n",
    "train.rename(columns={col: col + '_n2' for col in cols_to_merge}, inplace=True)\n",
    "\n",
    "test = test.merge(companies[cols_to_merge], left_on='name_2', right_on='name', how='left')\n",
    "test.drop(columns=['name'], inplace=True)\n",
    "test.rename(columns={col: col + '_n2' for col in cols_to_merge}, inplace=True)"
   ]
  },
  {
   "cell_type": "markdown",
   "metadata": {},
   "source": [
    "### Приближенное сопоставление"
   ]
  },
  {
   "cell_type": "code",
   "execution_count": null,
   "metadata": {},
   "outputs": [],
   "source": [
    "fuzzy_cols_to_merge = ['first_w', 'industry', 'current employee estimate', 'total employee estimate']"
   ]
  },
  {
   "cell_type": "code",
   "execution_count": null,
   "metadata": {},
   "outputs": [],
   "source": [
    "companies['first_w'] = companies['name'].apply(lambda x: x.split()[0] if len(x.split()) else 'None')"
   ]
  },
  {
   "cell_type": "code",
   "execution_count": null,
   "metadata": {},
   "outputs": [],
   "source": [
    "trunc_companies = companies.drop_duplicates(subset=['first_w'])"
   ]
  },
  {
   "cell_type": "code",
   "execution_count": null,
   "metadata": {},
   "outputs": [],
   "source": [
    "train['first_w1'] = train['name_1'].apply(lambda x: x.split()[0] if len(x.split()) else 'None')\n",
    "test['first_w1'] = test['name_1'].apply(lambda x: x.split()[0] if len(x.split()) else 'None')\n",
    "\n",
    "train['first_w2'] = train['name_2'].apply(lambda x: x.split()[0] if len(x.split()) else 'None')\n",
    "test['first_w2'] = test['name_2'].apply(lambda x: x.split()[0] if len(x.split()) else 'None')"
   ]
  },
  {
   "cell_type": "code",
   "execution_count": null,
   "metadata": {},
   "outputs": [],
   "source": [
    "first_w_name1_train = pd.DataFrame(train['first_w1']).merge(trunc_companies[fuzzy_cols_to_merge], left_on='first_w1', right_on='first_w', how='left')\n",
    "first_w_name1_test = pd.DataFrame(test['first_w1']).merge(trunc_companies[fuzzy_cols_to_merge], left_on='first_w1', right_on='first_w', how='left')\n",
    "\n",
    "first_w_name2_train = pd.DataFrame(train['first_w2']).merge(trunc_companies[fuzzy_cols_to_merge], left_on='first_w2', right_on='first_w', how='left')\n",
    "first_w_name2_test = pd.DataFrame(test['first_w2']).merge(trunc_companies[fuzzy_cols_to_merge], left_on='first_w2', right_on='first_w', how='left')"
   ]
  },
  {
   "cell_type": "code",
   "execution_count": null,
   "metadata": {},
   "outputs": [],
   "source": [
    "train['industry_n1'].fillna(first_w_name1_train['industry'], inplace=True)\n",
    "train['industry_n2'].fillna(first_w_name2_train['industry'], inplace=True)\n",
    "\n",
    "train['current employee estimate_n1'].fillna(first_w_name1_train['current employee estimate'], inplace=True)\n",
    "train['current employee estimate_n2'].fillna(first_w_name2_train['current employee estimate'], inplace=True)\n",
    "\n",
    "train['total employee estimate_n1'].fillna(first_w_name1_train['total employee estimate'], inplace=True)\n",
    "train['total employee estimate_n2'].fillna(first_w_name2_train['total employee estimate'], inplace=True)"
   ]
  },
  {
   "cell_type": "code",
   "execution_count": null,
   "metadata": {},
   "outputs": [],
   "source": [
    "test['industry_n1'].fillna(first_w_name1_test['industry'], inplace=True)\n",
    "test['industry_n2'].fillna(first_w_name2_test['industry'], inplace=True)\n",
    "\n",
    "test['current employee estimate_n1'].fillna(first_w_name1_test['current employee estimate'], inplace=True)\n",
    "test['current employee estimate_n2'].fillna(first_w_name2_test['current employee estimate'], inplace=True)\n",
    "\n",
    "test['total employee estimate_n1'].fillna(first_w_name1_test['total employee estimate'], inplace=True)\n",
    "test['total employee estimate_n2'].fillna(first_w_name2_test['total employee estimate'], inplace=True)"
   ]
  },
  {
   "cell_type": "code",
   "execution_count": null,
   "metadata": {},
   "outputs": [],
   "source": [
    "train['industry_n1'].fillna('None', inplace=True)\n",
    "train['industry_n2'].fillna('None', inplace=True)\n",
    "\n",
    "train['current employee estimate_n1'].fillna(train['current employee estimate_n1'].mean(), inplace=True)\n",
    "train['current employee estimate_n2'].fillna(train['current employee estimate_n2'].mean(), inplace=True)\n",
    "\n",
    "train['total employee estimate_n1'].fillna(train['total employee estimate_n1'].mean(), inplace=True)\n",
    "train['total employee estimate_n2'].fillna(train['total employee estimate_n2'].mean(), inplace=True)"
   ]
  },
  {
   "cell_type": "code",
   "execution_count": null,
   "metadata": {},
   "outputs": [],
   "source": [
    "test['industry_n1'].fillna('None', inplace=True)\n",
    "test['industry_n2'].fillna('None', inplace=True)\n",
    "\n",
    "test['current employee estimate_n1'].fillna(test['current employee estimate_n1'].mean(), inplace=True)\n",
    "test['current employee estimate_n2'].fillna(test['current employee estimate_n2'].mean(), inplace=True)\n",
    "\n",
    "test['total employee estimate_n1'].fillna(test['total employee estimate_n1'].mean(), inplace=True)\n",
    "test['total employee estimate_n2'].fillna(test['total employee estimate_n2'].mean(), inplace=True)"
   ]
  },
  {
   "cell_type": "code",
   "execution_count": null,
   "metadata": {},
   "outputs": [],
   "source": [
    "train.head()"
   ]
  },
  {
   "cell_type": "code",
   "execution_count": null,
   "metadata": {},
   "outputs": [],
   "source": [
    "cols_to_save = ['industry_n1', 'current employee estimate_n1', 'total employee estimate_n1',\n",
    "                'industry_n2', 'current employee estimate_n2', 'total employee estimate_n2']"
   ]
  },
  {
   "cell_type": "code",
   "execution_count": null,
   "metadata": {},
   "outputs": [],
   "source": [
    "train.index = train_df.index\n",
    "test.index = test_df.index"
   ]
  },
  {
   "cell_type": "code",
   "execution_count": null,
   "metadata": {},
   "outputs": [],
   "source": [
    "train[cols_to_save].to_csv(DATA_DIR.joinpath('train_external.csv'))"
   ]
  },
  {
   "cell_type": "code",
   "execution_count": null,
   "metadata": {},
   "outputs": [],
   "source": [
    "test[cols_to_save].to_csv(DATA_DIR.joinpath('test_external.csv'))"
   ]
  },
  {
   "cell_type": "code",
   "execution_count": null,
   "metadata": {},
   "outputs": [],
   "source": []
  }
 ],
 "metadata": {
  "kernelspec": {
   "display_name": "sibur",
   "language": "python",
   "name": "sibur"
  },
  "language_info": {
   "codemirror_mode": {
    "name": "ipython",
    "version": 3
   },
   "file_extension": ".py",
   "mimetype": "text/x-python",
   "name": "python",
   "nbconvert_exporter": "python",
   "pygments_lexer": "ipython3",
   "version": "3.9.1"
  }
 },
 "nbformat": 4,
 "nbformat_minor": 4
}
